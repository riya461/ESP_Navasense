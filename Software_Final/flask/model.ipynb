import numpy as np
from tensorflow.keras.models import Sequential
from tensorflow.keras.layers import Conv2D, MaxPooling2D, Flatten, Dense, Dropout
from tensorflow.keras.utils import to_categorical
from tensorflow.keras.preprocessing.image import ImageDataGenerator
import os
from PIL import Image, ImageDraw, ImageFont
import random

def generate_synthetic_data(num_samples=1000, img_size=(28, 28)):
    """Generate synthetic training data for A-Z characters"""
    characters = [chr(i) for i in range(ord('A'), ord('Z')+1)]
    X = []
    y = []
    
    font = ImageFont.truetype("arial.ttf", 20)
    
    for _ in range(num_samples):
        for label, char in enumerate(characters):
            # Create blank image
            img = Image.new('L', img_size, color=0)  # Black background
            draw = ImageDraw.Draw(img)
            
            # Random position
            x = random.randint(5, img_size[0]-20)
            y = random.randint(5, img_size[1]-20)
            
            # Draw character
            draw.text((x, y), char, fill=255, font=font)  # White text
            
            # Add some noise
            img_array = np.array(img)
            noise = np.random.randint(0, 50, img_array.shape)
            img_array = np.clip(img_array + noise, 0, 255)
            
            X.append(img_array)
            y.append(label)
    
    X = np.array(X).reshape(-1, img_size[0], img_size[1], 1)
    y = to_categorical(np.array(y), num_classes=26)
    
    return X, y

def create_character_recognition_model():
    """Create and train a simple CNN model for character recognition"""
    # Generate synthetic data
    X_train, y_train = generate_synthetic_data()
    
    # Create model
    model = Sequential([
        Conv2D(32, (3, 3), activation='relu', input_shape=(28, 28, 1)),
        MaxPooling2D((2, 2)),
        Conv2D(64, (3, 3), activation='relu'),
        MaxPooling2D((2, 2)),
        Flatten(),
        Dense(128, activation='relu'),
        Dropout(0.5),
        Dense(26, activation='softmax')  # 26 classes for A-Z
    ])
    
    model.compile(optimizer='adam',
                 loss='categorical_crossentropy',
                 metrics=['accuracy'])
    
    # Train the model
    model.fit(X_train, y_train, epochs=5, batch_size=32)
    
    return model

# Create and save the model
model = create_character_recognition_model()
model.save('character_recognition.h5')
print("Model saved as character_recognition.h5")